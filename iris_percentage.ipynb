{
 "cells": [
  {
   "cell_type": "code",
   "execution_count": 13,
   "metadata": {},
   "outputs": [
    {
     "name": "stdout",
     "output_type": "stream",
     "text": [
      "enter test size:- 0.1\n",
      "[0 1 1 2 0 0 2 2 1 1 1 2 1 0 1]\n",
      "actual op\n",
      "[0 1 1 2 0 0 2 2 1 1 1 1 1 0 1]\n",
      "0.9333333333333333\n",
      "l1---- [0.1]\n",
      "l2 [0.9333333333333333]\n",
      "enter test size:- 0.2\n",
      "[1 0 0 1 0 2 1 2 0 1 1 1 0 2 2 0 2 2 0 1 0 2 2 1 2 2 0 1 1 1]\n",
      "actual op\n",
      "[1 0 0 1 0 2 1 2 0 1 1 1 0 2 2 0 2 2 0 1 0 2 2 2 2 2 0 1 1 1]\n",
      "0.9666666666666667\n",
      "l1---- [0.1, 0.2]\n",
      "l2 [0.9333333333333333, 0.9666666666666667]\n",
      "enter test size:- 0.3\n",
      "[1 1 0 2 1 1 0 0 2 2 2 1 0 1 0 1 2 1 0 1 1 1 0 0 1 2 2 0 1 0 1 2 2 2 2 1 1\n",
      " 2 0 1 0 0 1 2 1]\n",
      "actual op\n",
      "[2 2 0 2 1 1 0 0 2 2 2 1 0 1 0 1 2 1 0 1 1 1 0 0 1 2 2 0 1 0 1 2 2 2 2 1 1\n",
      " 2 0 1 0 0 1 2 1]\n",
      "0.9555555555555556\n",
      "l1---- [0.1, 0.2, 0.3]\n",
      "l2 [0.9333333333333333, 0.9666666666666667, 0.9555555555555556]\n",
      "enter test size:- 0.4\n",
      "[1 0 1 0 2 0 2 1 1 2 2 2 1 2 0 0 0 0 0 0 0 2 2 2 1 0 1 1 0 2 0 0 1 1 0 0 1\n",
      " 2 0 2 2 1 0 0 1 2 0 2 1 1 0 1 2 1 2 1 1 1 0 1]\n",
      "actual op\n",
      "[1 0 1 0 2 0 2 1 1 2 2 2 1 2 0 0 0 0 0 0 0 2 2 2 2 0 1 1 0 1 0 0 1 1 0 0 1\n",
      " 1 0 2 2 1 0 0 1 2 0 2 1 1 0 1 2 1 2 1 1 1 0 2]\n",
      "0.9333333333333333\n",
      "l1---- [0.1, 0.2, 0.3, 0.4]\n",
      "l2 [0.9333333333333333, 0.9666666666666667, 0.9555555555555556, 0.9333333333333333]\n",
      "enter test size:- 0.5\n",
      "[2 1 0 2 2 1 2 2 1 1 2 2 0 1 0 1 0 2 0 1 0 2 0 1 0 2 1 1 2 0 2 2 1 2 0 2 1\n",
      " 0 0 1 0 0 2 0 1 2 2 0 1 2 0 0 0 2 2 1 1 1 1 2 1 0 1 2 2 0 0 2 1 2 2 0 0 2\n",
      " 1]\n",
      "actual op\n",
      "[2 1 0 2 2 1 2 2 1 1 2 2 0 1 0 1 0 2 0 1 0 2 0 1 0 2 1 1 2 0 2 2 1 2 0 2 1\n",
      " 0 0 1 0 0 2 0 1 2 2 0 1 2 0 0 0 1 2 1 1 1 1 2 1 0 1 1 2 0 0 2 1 2 2 0 0 2\n",
      " 1]\n",
      "0.9733333333333334\n",
      "l1---- [0.1, 0.2, 0.3, 0.4, 0.5]\n",
      "l2 [0.9333333333333333, 0.9666666666666667, 0.9555555555555556, 0.9333333333333333, 0.9733333333333334]\n"
     ]
    },
    {
     "data": {
      "image/png": "[encoded data removed]",
      "text/plain": [
       "<Figure size 432x288 with 1 Axes>"
      ]
     },
     "metadata": {},
     "output_type": "display_data"
    }
   ],
   "source": [
    "from sklearn.datasets import load_iris\n",
    "from sklearn import tree\n",
    "#this library is used to split data into testing and training datasets\n",
    "from sklearn.model_selection import train_test_split\n",
    "#this is used to calculate % between actual op and given op\n",
    "from sklearn.metrics import accuracy_score\n",
    "#library used to plot graph\n",
    "#import matplotlib.pyplot as plt \n",
    "\n",
    "print(\"------------------------DECISION TREE CLASSIFIER--------------------------\")\n",
    "iris=load_iris()\n",
    "l1=[]\n",
    "l2=[]\n",
    "#p is test size\n",
    "for i in range (1,6):\n",
    "    p=float(input(\"enter test size:- \"))\n",
    "    \n",
    "    \n",
    "\n",
    "#spliting data\n",
    "#iris data gives features data\n",
    "#iris target gives data related to target op i.e which flower it is.\n",
    "#0.05 means 5% data is splitted for testing.\n",
    "    x,y,z,a=train_test_split(iris.data,iris.target,test_size=p)\n",
    "\n",
    "    '''\n",
    "    x=train_data_features\n",
    "        y=test_data_features(data to be tested)\n",
    "        z=train_target\n",
    "        a=test_target(expected op)\n",
    "    '''\n",
    "    clf=tree.DecisionTreeClassifier()\n",
    "    trained=clf.fit(x,z)\n",
    "    output=trained.predict(y)\n",
    "    print(output)\n",
    "    print(\"actual op\")\n",
    "    print(a)\n",
    "    pct=accuracy_score(output,a)\n",
    "    print(pct)\n",
    "    \n",
    "    \n",
    "    #l1 is list which stores all test_sizes entered by user\n",
    "    l1.append(p)\n",
    "    print('l1----',l1)\n",
    "\n",
    "\n",
    "        #l2 is list which stores accuracy score .\n",
    "    l2.append(pct)\n",
    "    print('l2',l2)\n",
    "\n",
    "#plotting graph between testsizes and accuracy score.\n",
    "\n",
    "plt.xlabel(\"test_sizes\")  #used to give names to x-axis.\n",
    "plt.ylabel(\"accuracy score\") #used to give names to y-axis.\n",
    "plt.scatter(l1,l2)\n",
    "plt.grid(color='y')\n",
    "plt.show()\n"
   ]
  },
  {
   "cell_type": "code",
   "execution_count": null,
   "metadata": {},
   "outputs": [],
   "source": []
  },
  {
   "cell_type": "code",
   "execution_count": null,
   "metadata": {},
   "outputs": [],
   "source": []
  }
 ],
 "metadata": {
  "kernelspec": {
   "display_name": "Python 3",
   "language": "python",
   "name": "python3"
  },
  "language_info": {
   "codemirror_mode": {
    "name": "ipython",
    "version": 3
   },
   "file_extension": ".py",
   "mimetype": "text/x-python",
   "name": "python",
   "nbconvert_exporter": "python",
   "pygments_lexer": "ipython3",
   "version": "3.5.2"
  }
 },
 "nbformat": 4,
 "nbformat_minor": 2
}
