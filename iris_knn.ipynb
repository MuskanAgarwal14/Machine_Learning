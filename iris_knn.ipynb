{
 "cells": [
  {
   "cell_type": "code",
   "execution_count": 2,
   "metadata": {},
   "outputs": [
    {
     "name": "stdout",
     "output_type": "stream",
     "text": [
      "------------------------K NEAREST NEIGHBOUR--------------------------\n",
      "enter number of neighbours(k):- 5\n",
      "actual o/p==== [2 2 1 2 0 0 0 2 1 1 0 1 1 0 2 1 2 2 0 1 1 1 0 0 1 2 0 0 0 0]\n",
      "trained o/p==== [2 2 1 2 0 0 0 2 1 1 0 1 1 0 2 1 2 2 0 1 1 1 0 0 1 2 0 0 0 0]\n",
      "1.0\n",
      "l1---- [5]\n",
      "l2 [1.0]\n",
      "enter number of neighbours(k):- 10\n",
      "actual o/p==== [2 2 0 0 2 1 1 0 1 2 1 1 0 2 0 1 0 2 2 2 1 1 2 2 0 2 0 1 1 1]\n",
      "trained o/p==== [2 2 0 0 2 1 1 0 1 2 2 1 0 2 0 1 0 2 2 2 1 1 2 2 0 2 0 1 1 1]\n",
      "0.9666666666666667\n",
      "l1---- [5, 10]\n",
      "l2 [1.0, 0.9666666666666667]\n",
      "enter number of neighbours(k):- 15\n",
      "actual o/p==== [0 0 0 2 1 1 1 1 2 1 0 0 2 2 1 0 1 2 1 0 1 0 2 1 0 1 2 2 2 0]\n",
      "trained o/p==== [0 0 0 2 1 1 1 1 2 1 0 0 2 2 1 0 1 2 1 0 1 0 2 1 0 1 2 2 2 0]\n",
      "1.0\n",
      "l1---- [5, 10, 15]\n",
      "l2 [1.0, 0.9666666666666667, 1.0]\n",
      "enter number of neighbours(k):- 18\n",
      "actual o/p==== [1 0 1 1 0 2 2 2 2 0 0 1 2 1 1 2 1 1 1 2 2 1 0 2 2 0 2 0 0 2]\n",
      "trained o/p==== [1 0 1 1 0 2 2 2 2 0 0 1 2 1 1 2 1 1 1 2 2 2 0 2 2 0 2 0 0 2]\n",
      "0.9666666666666667\n",
      "l1---- [5, 10, 15, 18]\n",
      "l2 [1.0, 0.9666666666666667, 1.0, 0.9666666666666667]\n"
     ]
    },
    {
     "data": {
      "image/png": "[encoded data removed]",
      "text/plain": [
       "<Figure size 432x288 with 1 Axes>"
      ]
     },
     "metadata": {},
     "output_type": "display_data"
    }
   ],
   "source": [
    "from sklearn.datasets import load_iris\n",
    "from sklearn.neighbors import KNeighborsClassifier\n",
    "from sklearn.model_selection import train_test_split\n",
    "from sklearn.metrics import accuracy_score\n",
    "import matplotlib.pyplot as plt\n",
    "\n",
    "iris=load_iris()\n",
    "\n",
    "print(\"------------------------K NEAREST NEIGHBOUR--------------------------\")\n",
    "iris=load_iris()\n",
    "l1=[]\n",
    "l2=[]\n",
    "for i in range(1,5):\n",
    "    \n",
    "    p=int(input(\"enter number of neighbours(k):- \"))\n",
    "    \n",
    "\n",
    "    #spliting data\n",
    "    #iris data gives features data\n",
    "    #iris target gives data related to target op i.e which flower it is.\n",
    "    #0.05 means 5% data is splitted for testing.\n",
    "    x,y,z,a=train_test_split(iris.data,iris.target,test_size=0.2)\n",
    "\n",
    "    '''\n",
    "    x=train_data_features\n",
    "    y=test_data_features(data to be tested)\n",
    "    z=train_target\n",
    "    a=test_target(expected op)\n",
    "    '''\n",
    "    #calling algo of knn\n",
    "    knnclf=KNeighborsClassifier(n_neighbors=p)\n",
    "    trained=knnclf.fit(x,z)\n",
    "    output=trained.predict(y)\n",
    "    \n",
    "    print(\"actual o/p====\",a)\n",
    "    print(\"trained o/p====\",output)\n",
    "\n",
    "    #accuracy score\n",
    "\n",
    "    pctknn=accuracy_score(output,a)\n",
    "    print(pctknn)\n",
    "\n",
    "    #l1 is list which stores all test_sizes entered by user\n",
    "    l1.append(p)\n",
    "    print('l1----',l1)\n",
    "\n",
    "\n",
    "    #l2 is list which stores accuracy score .\n",
    "    l2.append(pctknn)\n",
    "    print('l2',l2)\n",
    "\n",
    "\n",
    "\n",
    "\n",
    "plt.xlabel(\"no of neighbours(K)\")\n",
    "plt.ylabel(\"accuracy score\")\n",
    "plt.scatter(l1,l2,marker='x',color='green')\n",
    "plt.grid(color='pink')\n",
    "plt.show()"
   ]
  },
  {
   "cell_type": "code",
   "execution_count": null,
   "metadata": {},
   "outputs": [],
   "source": []
  },
  {
   "cell_type": "code",
   "execution_count": null,
   "metadata": {},
   "outputs": [],
   "source": []
  },
  {
   "cell_type": "code",
   "execution_count": null,
   "metadata": {},
   "outputs": [],
   "source": []
  },
  {
   "cell_type": "code",
   "execution_count": null,
   "metadata": {},
   "outputs": [],
   "source": []
  },
  {
   "cell_type": "code",
   "execution_count": null,
   "metadata": {},
   "outputs": [],
   "source": []
  }
 ],
 "metadata": {
  "kernelspec": {
   "display_name": "Python 3",
   "language": "python",
   "name": "python3"
  },
  "language_info": {
   "codemirror_mode": {
    "name": "ipython",
    "version": 3
   },
   "file_extension": ".py",
   "mimetype": "text/x-python",
   "name": "python",
   "nbconvert_exporter": "python",
   "pygments_lexer": "ipython3",
   "version": "3.5.2"
  }
 },
 "nbformat": 4,
 "nbformat_minor": 2
}
